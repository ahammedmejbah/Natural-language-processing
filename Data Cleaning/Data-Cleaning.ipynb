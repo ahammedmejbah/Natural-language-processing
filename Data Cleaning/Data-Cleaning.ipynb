{
 "cells": [
  {
   "cell_type": "markdown",
   "metadata": {},
   "source": [
    "### **<center><span style=\"color:#FEF1FE;background-color:#023e8a;border-radius: 5px;padding: 5px\">`NLP ডাটা ক্লিনিং `</span></center>**"
   ]
  },
  {
   "cell_type": "markdown",
   "metadata": {},
   "source": [
    "`এই নোটবুকটি যেকোন ডেটা সায়েন্স প্রজেক্টের একটি প্রয়োজনীয় ধাপের মধ্য দিয়ে যায় - ডেটা ক্লিনিং। ডেটা পরিষ্কার করা একটি সময়সাপেক্ষ এবং আনন্দদায়ক কাজ, তবুও এটি একটি অত্যন্ত গুরুত্বপূর্ণ কাজ। মনে রাখবেন, \"গারবেজ ইন, গার্বেজ আউট\"। একটি মডেলে অপ্রয়োজনীয় ডেটা ব্যাবহার আমাদের এমন ফলাফল দেবে যা অর্থহীন৷ । `\n",
    "\n",
    "Specifically, we'll be walking through:\n",
    "\n",
    "1. **ডেটা পাওয়া** -> এই ক্ষেত্রে, আমরা একটি ওয়েবসাইট থেকে ডেটা স্ক্র্যাপ করব।\n",
    "2. **ডেটা পরিষ্কার করা** ->আমরা জনপ্রিয় টেক্সট প্রি-প্রসেসিং কৌশলের মাধ্যমে চলব।\n",
    "3. **ডেটা সংগঠিত করা** ->আমরা পরিষ্কার করা ডেটাকে এমনভাবে সাজিয়ে রাখব যা অন্য অ্যালগরিদমে ইনপুট করা সহজ।\n",
    "\n",
    "### **<center><span style=\"color:#FEF1FE;background-color:#023e8a;border-radius: 5px;padding: 5px\">`এই নোটবুকের আউটপুট দুটি স্ট্যান্ডার্ড টেক্সট ফরম্যাটে পরিষ্কার, সংগঠিত ডেটা হবে`</span></center>**\n",
    "\n",
    "\n",
    "* #### `Corpus - a collection of text`  \n",
    "\n",
    "* #### `Document-Term Matrix - word counts in matrix format`  "
   ]
  },
  {
   "cell_type": "markdown",
   "metadata": {},
   "source": [
    "## **<span style=\"color:#023e8a;\">Problem Statement: </span>**"
   ]
  },
  {
   "cell_type": "markdown",
   "metadata": {},
   "source": [
    "> `একটি অনুস্মারক হিসাবে, আমাদের লক্ষ্য হল বিভিন্ন কৌতুক অভিনেতাদের প্রতিলিপিগুলি দেখা এবং তাদের মিল এবং পার্থক্যগুলি নোট করা। বিশেষ করে, আমি জানতে চাই আলি ওং-এর কমেডি শৈলী অন্য কৌতুক অভিনেতাদের থেকে আলাদা কিনা`"
   ]
  },
  {
   "cell_type": "markdown",
   "metadata": {},
   "source": [
    "## <span style=\"color:#023e8a;\">ডাটা কি ভাবে সংগ্রহ করা হলঃ</span>"
   ]
  },
  {
   "cell_type": "markdown",
   "metadata": {},
   "source": [
    "`কোন কৌতুক অভিনেতাদের দিকে নজর দিতে হবে তা নির্ধারণ করতে, আমি আইএমডিবিতে গিয়েছিলাম এবং বিশেষভাবে গত 5 বছরে প্রকাশিত কমেডি স্পেশালগুলি দেখেছিলাম৷ এটিকে আরও সংকুচিত করার জন্য, আমি কেবলমাত্র তাদের দিকে তাকিয়েছিলাম যাদের 7.5/10 এর বেশি রেটিং এবং 2000 এর বেশি ভোট রয়েছে। যদি একজন কৌতুক অভিনেতার একাধিক স্পেশাল থাকে যা সেই প্রয়োজনীয়তাগুলির সাথে খাপ খায়, আমি সবচেয়ে উচ্চ রেট দেওয়া একটি বেছে নেব। আমি এক ডজন কমেডি স্পেশাল দিয়ে শেষ করেছি। `"
   ]
  },
  {
   "cell_type": "code",
   "execution_count": null,
   "metadata": {
    "tags": []
   },
   "outputs": [],
   "source": [
    "# Web scraping, pickle imports\n",
    "import requests\n",
    "from bs4 import BeautifulSoup\n",
    "import pickle\n",
    "import warnings\n",
    "warnings.filterwarnings('ignore')\n",
    "\n",
    "# scrapsfromtheloft.com থেকে ট্রান্সক্রিপ্ট ডেটা স্ক্র্যাপ করে\n",
    "def url_to_transcript(url):\n",
    "    '''বিশেষভাবে scrapsfromtheloft.com থেকে ট্রান্সক্রিপ্ট ডেটা প্রদান করে।'''\n",
    "    page = requests.get(url).text\n",
    "    soup = BeautifulSoup(page, \"lxml\")\n",
    "    text = [p.text for p in soup.find(class_=\"post-content\").find_all('p')]\n",
    "    print(url)\n",
    "    return text\n",
    "\n",
    "\n",
    "urls = ['http://scrapsfromtheloft.com/2017/05/06/louis-ck-oh-my-god-full-transcript/',\n",
    "        'http://scrapsfromtheloft.com/2017/04/11/dave-chappelle-age-spin-2017-full-transcript/',\n",
    "        'http://scrapsfromtheloft.com/2018/03/15/ricky-gervais-humanity-transcript/',\n",
    "        'http://scrapsfromtheloft.com/2017/08/07/bo-burnham-2013-full-transcript/',\n",
    "        'http://scrapsfromtheloft.com/2017/05/24/bill-burr-im-sorry-feel-way-2014-full-transcript/',\n",
    "        'http://scrapsfromtheloft.com/2017/04/21/jim-jefferies-bare-2014-full-transcript/',\n",
    "        'http://scrapsfromtheloft.com/2017/08/02/john-mulaney-comeback-kid-2015-full-transcript/',\n",
    "        'http://scrapsfromtheloft.com/2017/10/21/hasan-minhaj-homecoming-king-2017-full-transcript/',\n",
    "        'http://scrapsfromtheloft.com/2017/09/19/ali-wong-baby-cobra-2016-full-transcript/',\n",
    "        'http://scrapsfromtheloft.com/2017/08/03/anthony-jeselnik-thoughts-prayers-2015-full-transcript/',\n",
    "        'http://scrapsfromtheloft.com/2018/03/03/mike-birbiglia-my-girlfriends-boyfriend-2013-full-transcript/',\n",
    "        'http://scrapsfromtheloft.com/2017/08/19/joe-rogan-triggered-2016-full-transcript/']\n",
    "\n",
    "# কমেডিয়ানদের নাম\n",
    "comedians = ['louis', 'dave', 'ricky', 'bo', 'bill', 'jim', 'john', 'hasan', 'ali', 'anthony', 'mike', 'joe']"
   ]
  },
  {
   "cell_type": "code",
   "execution_count": null,
   "metadata": {
    "tags": []
   },
   "outputs": [],
   "source": [
    "data = {}\n",
    "for i, c in enumerate(comedians):\n",
    "    with open(\"transcripts/\" + c + \".txt\", \"rb\") as file:\n",
    "        data[c] = pickle.load(file)"
   ]
  },
  {
   "cell_type": "code",
   "execution_count": null,
   "metadata": {},
   "outputs": [],
   "source": [
    "data.keys()"
   ]
  },
  {
   "cell_type": "code",
   "execution_count": null,
   "metadata": {},
   "outputs": [],
   "source": [
    "data['louis'][:2]"
   ]
  },
  {
   "cell_type": "markdown",
   "metadata": {},
   "source": [
    "### <span style=\"color:#023e8a;\">ডাটা ক্লিন করা </span>"
   ]
  },
  {
   "cell_type": "markdown",
   "metadata": {},
   "source": [
    ">সংখ্যাসূচক ডেটা নিয়ে কাজ করার সময়, ডেটা ক্লিনিংয়ে প্রায়শই নাল মান এবং ডুপ্লিকেট ডেটা অপসারণ করা, আউটলিয়ারদের সাথে ডিল করা ইত্যাদি জড়িত। টেক্সট ডেটার সাথে, কিছু সাধারণ ডেটা পরিষ্কার করার কৌশল রয়েছে, যেগুলি টেক্সট প্রাক-প্রক্রিয়াকরণ কৌশল নামেও পরিচিত।\n",
    "\n",
    "***টেক্সট ডেটা সহ, এই পরিষ্কারের প্রক্রিয়া চিরতরে চলতে পারে। প্রতিটি পরিষ্কারের পদক্ষেপের জন্য সর্বদা একটি ব্যতিক্রম রয়েছে। সুতরাং, আমরা MVP (ন্যূনতম কার্যকর পণ্য) পদ্ধতি অনুসরণ করতে যাচ্ছি - সহজ এবং পুনরাবৃত্তি শুরু করুন। আপনার ডেটা পরিষ্কার করতে আপনি করতে পারেন এমন একগুচ্ছ জিনিস এখানে রয়েছে৷ আমরা এখানে শুধুমাত্র সাধারণ পরিচ্ছন্নতার পদক্ষেপগুলি সম্পাদন করতে যাচ্ছি এবং বাকিগুলি আমাদের ফলাফলগুলিকে উন্নত করার জন্য পরবর্তী সময়ে করা যেতে পারে৷ পাঠ্য ডেটা সহ, এই পরিষ্কারের প্রক্রিয়াটি চিরতরে চলতে পারে৷ প্রতিটি পরিষ্কারের পদক্ষেপে সর্বদা একটি ব্যতিক্রম রয়েছে। সুতরাং, আমরা MVP (ন্যূনতম কার্যকর পণ্য) পদ্ধতি অনুসরণ করতে যাচ্ছি - সহজ এবং পুনরাবৃত্তি শুরু করুন। আপনার ডেটা পরিষ্কার করতে আপনি করতে পারেন এমন একগুচ্ছ জিনিস এখানে রয়েছে৷ আমরা এখানে শুধুমাত্র সাধারণ পরিচ্ছন্নতার পদক্ষেপগুলি সম্পাদন করতে যাচ্ছি এবং আমাদের ফলাফলগুলি উন্নত করতে বাকিগুলি পরবর্তী সময়ে করা যেতে পারে।***\n",
    "\n",
    "\n",
    "<span style=\"color:#023e8a;\">**সমস্ত পাঠ্যের সাধারণ ডেটা পরিষ্কার করার পদক্ষেপ:**</span>  \n",
    "\n",
    "* টেক্সট সব ছোট হাতের তৈরি করুন\n",
    "* যতিচিহ্ন সরান\n",
    "* সংখ্যাসূচক মান সরান\n",
    "* সাধারণ অ-সংবেদনশীল পাঠ্য সরান (/n)\n",
    "* টেক্সট টোকেনাইজ করুন\n",
    "* স্টপ শব্দ মুছে ফেলুন\n",
    "\n",
    "<span style=\"color:#023e8a;\">**টোকেনাইজেশনের পরে আরও ডেটা পরিষ্কারের পদক্ষেপগুলি:**</span> \n",
    "* Stemming / lemmatization\n",
    "* Parts of speech tagging\n",
    "* Create bi-grams or tri-grams\n",
    "* Deal with typos\n",
    "* Remove URLs\n",
    "* Remove HTML tags\n",
    "* Remove emoji\n",
    "* Remove numbers\n",
    "\n",
    "\n",
    "<span style=\"color:#023e8a;\">**গুণমান ডেটার বৈশিষ্ট্য**</span>\n",
    " \n",
    " \n",
    "> `Validity.` **<span style=\"color:#023e8a;\">: The degree to which your data conforms to defined business rules or constraints.</span>**  \n",
    "> `Accuracy.` **<span style=\"color:#023e8a;\">: Ensure your data is close to the true values..</span>**  \n",
    "> `Completeness.` **<span style=\"color:#023e8a;\">: The degree to which all required data is known.</span>**  \n",
    "> `Consistency.` **<span style=\"color:#023e8a;\">: Ensure your data is consistent within the same dataset and/or across multiple data sets.</span>**  \n",
    "> `Uniformity` **<span style=\"color:#023e8a;\">: The degree to which the data is specified using the same unit of measure.</span>**  \n"
   ]
  },
  {
   "cell_type": "code",
   "execution_count": null,
   "metadata": {},
   "outputs": [],
   "source": [
    "next(iter(data.keys()))"
   ]
  },
  {
   "cell_type": "code",
   "execution_count": null,
   "metadata": {},
   "outputs": [],
   "source": [
    "next(iter(data.values()))"
   ]
  },
  {
   "cell_type": "code",
   "execution_count": null,
   "metadata": {
    "tags": []
   },
   "outputs": [],
   "source": [
    "def combine_text(list_of_text):\n",
    "    '''Takes a list of text and combines them into one large chunk of text.'''\n",
    "    combined_text = ' '.join(list_of_text)\n",
    "    return combined_text"
   ]
  },
  {
   "cell_type": "code",
   "execution_count": null,
   "metadata": {
    "tags": []
   },
   "outputs": [],
   "source": [
    "data_combined = {key: [combine_text(value)] for (key, value) in data.items()}"
   ]
  },
  {
   "cell_type": "code",
   "execution_count": null,
   "metadata": {},
   "outputs": [],
   "source": [
    "import pandas as pd\n",
    "pd.set_option('max_colwidth',150)\n",
    "\n",
    "data_df = pd.DataFrame.from_dict(data_combined).transpose()\n",
    "data_df.columns = ['transcript']\n",
    "data_df = data_df.sort_index()\n",
    "data_df"
   ]
  },
  {
   "cell_type": "code",
   "execution_count": null,
   "metadata": {},
   "outputs": [],
   "source": [
    "data_df.transcript.loc['ali']"
   ]
  },
  {
   "cell_type": "code",
   "execution_count": null,
   "metadata": {
    "tags": []
   },
   "outputs": [],
   "source": [
    "import re\n",
    "import string\n",
    "\n",
    "def clean_text_round1(text):\n",
    "    '''Make text lowercase, remove text in square brackets, remove punctuation and remove words containing numbers.'''\n",
    "    text = text.lower()\n",
    "    text = re.sub('\\[.*?\\]', '', text)\n",
    "    text = re.sub('[%s]' % re.escape(string.punctuation), '', text)\n",
    "    text = re.sub('\\w*\\d\\w*', '', text)\n",
    "    return text\n",
    "\n",
    "round1 = lambda x: clean_text_round1(x)"
   ]
  },
  {
   "cell_type": "code",
   "execution_count": null,
   "metadata": {},
   "outputs": [],
   "source": [
    "data_clean = pd.DataFrame(data_df.transcript.apply(round1))\n",
    "data_clean"
   ]
  },
  {
   "cell_type": "code",
   "execution_count": null,
   "metadata": {
    "tags": []
   },
   "outputs": [],
   "source": [
    "def clean_text_round2(text):\n",
    "    '''Get rid of some additional punctuation and non-sensical text that was missed the first time around.'''\n",
    "    text = re.sub('[‘’“”…]', '', text)\n",
    "    text = re.sub('\\n', '', text)\n",
    "    return text\n",
    "\n",
    "round2 = lambda x: clean_text_round2(x)"
   ]
  },
  {
   "cell_type": "code",
   "execution_count": null,
   "metadata": {},
   "outputs": [],
   "source": [
    "data_clean = pd.DataFrame(data_clean.transcript.apply(round2))\n",
    "data_clean"
   ]
  },
  {
   "cell_type": "markdown",
   "metadata": {},
   "source": [
    "**NOTE:** এই ডেটা ক্লিনিং ওরফে টেক্সট প্রাক-প্রসেসিং ধাপ কিছু সময়ের জন্য চলতে পারে, কিন্তু আমরা আপাতত বন্ধ করতে যাচ্ছি। কিছু বিশ্লেষণ কৌশলের মধ্য দিয়ে যাওয়ার পরে, আপনি যদি দেখেন যে ফলাফলগুলি অর্থপূর্ণ নয় বা উন্নত করা যেতে পারে, আপনি ফিরে আসতে পারেন এবং আরও সম্পাদনা করতে পারেন যেমন:\n",
    "\n",
    "* Mark 'cheering' and 'cheer' as the same word (stemming / lemmatization)\n",
    "* Combine 'thank you' into one term (bi-grams)\n",
    "* And a lot more...\n",
    "\n",
    "`পরিচ্ছন্ন ডেটা শেষ পর্যন্ত সামগ্রিক উৎপাদনশীলতা উন্নত করে এবং সিদ্ধান্ত নেওয়ার ক্ষেত্রে সর্বোচ্চ মানের তথ্য সক্ষম করে। সুবিধাগুলো হল:`\n",
    "\n",
    "* Removal of errors when multiple sources of data are at play.\n",
    "* Fewer errors make for happier clients and less-frustrated employees.\n",
    "* Ability to map the different functions and what your data is intended to do.\n",
    "* Monitoring errors and better reporting to see where errors are coming from, making it easier to fix incorrect or corrupt data for future applications.\n",
    "* Using tools for data cleaning will make for more efficient business practices and quicker decision-making.\n",
    " "
   ]
  },
  {
   "cell_type": "markdown",
   "metadata": {},
   "source": [
    "### `আমি আগে উল্লেখ করেছি যে এই নোটবুকের আউটপুট দুটি স্ট্যান্ডার্ড টেক্সট ফর্ম্যাটে পরিষ্কার, সংগঠিত ডেটা হবে:`\n",
    "\n",
    "1. #### `Corpus - a collection of text`  \n",
    "\n",
    "2. #### `Document-Term Matrix - word counts in matrix format`  "
   ]
  },
  {
   "cell_type": "markdown",
   "metadata": {},
   "source": [
    "### Corpus"
   ]
  },
  {
   "cell_type": "markdown",
   "metadata": {},
   "source": [
    "***আমরা ইতিমধ্যে একটি পূর্ববর্তী ধাপে একটি কর্পাস তৈরি করেছি। একটি কর্পাসের সংজ্ঞা হল পাঠ্যের একটি সংগ্রহ, এবং সেগুলি এখানে একটি পান্ডাস ডেটাফ্রেমে সুন্দরভাবে একত্রিত করা হয়েছে৷***"
   ]
  },
  {
   "cell_type": "code",
   "execution_count": null,
   "metadata": {},
   "outputs": [],
   "source": [
    "data_df"
   ]
  },
  {
   "cell_type": "code",
   "execution_count": null,
   "metadata": {},
   "outputs": [],
   "source": [
    "full_names = ['Ali Wong', 'Anthony Jeselnik', 'Bill Burr', 'Bo Burnham', 'Dave Chappelle', 'Hasan Minhaj',\n",
    "              'Jim Jefferies', 'Joe Rogan', 'John Mulaney', 'Louis C.K.', 'Mike Birbiglia', 'Ricky Gervais']\n",
    "\n",
    "data_df['full_name'] = full_names\n",
    "data_df"
   ]
  },
  {
   "cell_type": "code",
   "execution_count": null,
   "metadata": {
    "tags": []
   },
   "outputs": [],
   "source": [
    "data_df.to_pickle(\"corpus.pkl\")"
   ]
  },
  {
   "cell_type": "markdown",
   "metadata": {},
   "source": [
    "### Document-Term Matrix"
   ]
  },
  {
   "cell_type": "markdown",
   "metadata": {},
   "source": [
    "`আমরা ভবিষ্যতের নোটবুকগুলিতে যে কৌশলগুলি ব্যবহার করব তার জন্য, পাঠ্যটি অবশ্যই টোকেনাইজড হতে হবে, যার অর্থ ছোট ছোট টুকরোগুলিতে বিভক্ত। সবচেয়ে সাধারণ টোকেনাইজেশন কৌশল হল টেক্সটকে শব্দে ভেঙ্গে ফেলা। আমরা scikit-learn-এর CountVectorizer ব্যবহার করে এটি করতে পারি, যেখানে প্রতিটি সারি একটি ভিন্ন নথি উপস্থাপন করবে এবং প্রতিটি কলাম একটি ভিন্ন শব্দ উপস্থাপন করবে।`\n",
    "\n",
    "`উপরন্তু, CountVectorizer-এর সাহায্যে আমরা স্টপ শব্দগুলি সরিয়ে ফেলতে পারি। স্টপ শব্দগুলি হল সাধারণ শব্দ যা পাঠ্যের সাথে কোনো অতিরিক্ত অর্থ যোগ করে না যেমন 'a', 'the', ইত্যাদি। `"
   ]
  },
  {
   "cell_type": "code",
   "execution_count": null,
   "metadata": {},
   "outputs": [],
   "source": [
    "from sklearn.feature_extraction.text import CountVectorizer\n",
    "\n",
    "cv = CountVectorizer(stop_words='english')\n",
    "data_cv = cv.fit_transform(data_clean.transcript)\n",
    "data_dtm = pd.DataFrame(data_cv.toarray(), columns=cv.get_feature_names())\n",
    "data_dtm.index = data_clean.index\n",
    "data_dtm"
   ]
  },
  {
   "cell_type": "code",
   "execution_count": null,
   "metadata": {
    "tags": []
   },
   "outputs": [],
   "source": [
    "data_dtm.to_pickle(\"dtm.pkl\")"
   ]
  },
  {
   "cell_type": "code",
   "execution_count": null,
   "metadata": {
    "tags": []
   },
   "outputs": [],
   "source": [
    "data_clean.to_pickle('data_clean.pkl')\n",
    "pickle.dump(cv, open(\"cv.pkl\", \"wb\"))"
   ]
  }
 ],
 "metadata": {
  "kernelspec": {
   "display_name": "Python 3 (ipykernel)",
   "language": "python",
   "name": "python3"
  },
  "language_info": {
   "codemirror_mode": {
    "name": "ipython",
    "version": 3
   },
   "file_extension": ".py",
   "mimetype": "text/x-python",
   "name": "python",
   "nbconvert_exporter": "python",
   "pygments_lexer": "ipython3",
   "version": "3.7.11"
  },
  "toc": {
   "nav_menu": {},
   "number_sections": true,
   "sideBar": true,
   "skip_h1_title": false,
   "toc_cell": false,
   "toc_position": {},
   "toc_section_display": "block",
   "toc_window_display": false
  },
  "varInspector": {
   "cols": {
    "lenName": 16,
    "lenType": 16,
    "lenVar": 40
   },
   "kernels_config": {
    "python": {
     "delete_cmd_postfix": "",
     "delete_cmd_prefix": "del ",
     "library": "var_list.py",
     "varRefreshCmd": "print(var_dic_list())"
    },
    "r": {
     "delete_cmd_postfix": ") ",
     "delete_cmd_prefix": "rm(",
     "library": "var_list.r",
     "varRefreshCmd": "cat(var_dic_list()) "
    }
   },
   "types_to_exclude": [
    "module",
    "function",
    "builtin_function_or_method",
    "instance",
    "_Feature"
   ],
   "window_display": false
  }
 },
 "nbformat": 4,
 "nbformat_minor": 4
}
